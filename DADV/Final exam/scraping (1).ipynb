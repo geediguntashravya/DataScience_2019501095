{
 "cells": [
  {
   "cell_type": "code",
   "execution_count": 7,
   "metadata": {},
   "outputs": [
    {
     "name": "stdout",
     "output_type": "stream",
     "text": [
      "{'industrials': ['MMM', 'ALK', 'ALLE', 'AAL', 'AME', 'AOS', 'BA', 'CHRW', 'CARR', 'CAT', 'CTAS', 'CPRT', 'CSX', 'CMI', 'DE', 'DAL', 'DOV', 'ETN', 'EMR', 'EFX', 'EXPD', 'FAST', 'FDX', 'FLS', 'FTV', 'FBHS', 'GD', 'GE', 'GWW', 'HON', 'HWM', 'HII', 'IEX', 'INFO', 'ITW', 'IR', 'J', 'JBHT', 'JCI', 'KSU', 'LHX', 'LMT', 'MAS', 'NLSN', 'NSC', 'NOC', 'ODFL', 'OTIS', 'PCAR', 'PH', 'PNR', 'PWR', 'RTX', 'RSG', 'RHI', 'ROK', 'ROL', 'ROP', 'SNA', 'LUV', 'SWK', 'TDY', 'TXT', 'TT', 'TDG', 'UNP', 'UAL', 'UPS', 'URI', 'VRSK', 'WAB', 'WM', 'XYL'], 'health_care': ['ABT', 'ABBV', 'ABMD', 'A', 'ALXN', 'ALGN', 'ABC', 'AMGN', 'ANTM', 'BAX', 'BDX', 'BIO', 'BIIB', 'BSX', 'BMY', 'CAH', 'CTLT', 'CNC', 'CERN', 'CI', 'COO', 'CVS', 'DHR', 'DVA', 'XRAY', 'DXCM', 'EW', 'GILD', 'HCA', 'HSIC', 'HOLX', 'HUM', 'IDXX', 'ILMN', 'INCY', 'ISRG', 'IQV', 'JNJ', 'LH', 'LLY', 'MCK', 'MDT', 'MRK', 'MTD', 'PKI', 'PRGO', 'PFE', 'DGX', 'REGN', 'RMD', 'STE', 'SYK', 'TFX', 'TMO', 'UNH', 'UHS', 'VAR', 'VRTX', 'VTRS', 'WAT', 'WST', 'ZBH', 'ZTS'], 'information_technology': ['ACN', 'ADBE', 'AMD', 'AKAM', 'APH', 'ADI', 'ANSS', 'AAPL', 'AMAT', 'ANET', 'ADSK', 'ADP', 'AVGO', 'BR', 'CDNS', 'CDW', 'CSCO', 'CTXS', 'CTSH', 'GLW', 'DXC', 'FFIV', 'FIS', 'FISV', 'FLT', 'FLIR', 'FTNT', 'IT', 'GPN', 'HPE', 'HPQ', 'INTC', 'IBM', 'INTU', 'IPGP', 'JKHY', 'JNPR', 'KEYS', 'KLAC', 'LRCX', 'LDOS', 'MA', 'MXIM', 'MCHP', 'MU', 'MSFT', 'MSI', 'NTAP', 'NLOK', 'NVDA', 'ORCL', 'PAYX', 'PAYC', 'PYPL', 'QRVO', 'QCOM', 'CRM', 'STX', 'NOW', 'SWKS', 'SNPS', 'TEL', 'TER', 'TXN', 'TYL', 'VRSN', 'V', 'VNT', 'WDC', 'WU', 'XRX', 'XLNX', 'ZBRA'], 'communication_services': ['ATVI', 'GOOGL', 'GOOG', 'T', 'CHTR', 'CMCSA', 'DISCA', 'DISCK', 'DISH', 'EA', 'FB', 'FOXA', 'FOX', 'IPG', 'LYV', 'LUMN', 'NFLX', 'NWSA', 'NWS', 'OMC', 'TMUS', 'TTWO', 'TWTR', 'VZ', 'VIAC', 'DIS'], 'consumer_discretionary': ['AAP', 'AMZN', 'APTV', 'AZO', 'BBY', 'BKNG', 'BWA', 'KMX', 'CCL', 'CMG', 'DHI', 'DRI', 'DG', 'DLTR', 'DPZ', 'EBAY', 'ETSY', 'EXPE', 'F', 'GPS', 'GRMN', 'GM', 'GPC', 'HBI', 'HAS', 'HLT', 'HD', 'LB', 'LVS', 'LEG', 'LEN', 'LKQ', 'LOW', 'MAR', 'MCD', 'MGM', 'MHK', 'NWL', 'NKE', 'NCLH', 'NVR', 'ORLY', 'POOL', 'PHM', 'PVH', 'RL', 'ROST', 'RCL', 'SBUX', 'TPR', 'TGT', 'TSLA', 'TIF', 'TJX', 'TSCO', 'ULTA', 'UAA', 'UA', 'VFC', 'WHR', 'WYNN', 'YUM'], 'utilities': ['AES', 'LNT', 'AEE', 'AEP', 'AWK', 'ATO', 'CNP', 'CMS', 'ED', 'D', 'DTE', 'DUK', 'EIX', 'ETR', 'EVRG', 'ES', 'EXC', 'FE', 'NEE', 'NI', 'NRG', 'PNW', 'PPL', 'PEG', 'SRE', 'SO', 'WEC', 'XEL'], 'financials': ['AFL', 'ALL', 'AXP', 'AIG', 'AMP', 'AON', 'AJG', 'AIZ', 'BAC', 'BK', 'BRK.B', 'BLK', 'COF', 'CBOE', 'SCHW', 'CB', 'CINF', 'C', 'CFG', 'CME', 'CMA', 'DFS', 'RE', 'FITB', 'FRC', 'BEN', 'GL', 'GS', 'HIG', 'HBAN', 'ICE', 'IVZ', 'JPM', 'KEY', 'LNC', 'L', 'MTB', 'MKTX', 'MMC', 'MET', 'MCO', 'MS', 'MSCI', 'NDAQ', 'NTRS', 'PBCT', 'PNC', 'PFG', 'PGR', 'PRU', 'RJF', 'RF', 'SPGI', 'STT', 'SIVB', 'SYF', 'TROW', 'TRV', 'TFC', 'USB', 'UNM', 'WRB', 'WFC', 'WLTW', 'ZION'], 'materials': ['APD', 'ALB', 'AMCR', 'AVY', 'BLL', 'CE', 'CF', 'CTVA', 'DOW', 'DD', 'EMN', 'ECL', 'FMC', 'FCX', 'IP', 'IFF', 'LIN', 'LYB', 'MLM', 'MOS', 'NEM', 'NUE', 'PKG', 'PPG', 'SEE', 'SHW', 'VMC', 'WRK'], 'real_estate': ['ARE', 'AMT', 'AVB', 'BXP', 'CBRE', 'CCI', 'DLR', 'DRE', 'EQIX', 'EQR', 'ESS', 'EXR', 'FRT', 'PEAK', 'HST', 'IRM', 'KIM', 'MAA', 'PLD', 'PSA', 'O', 'REG', 'SBAC', 'SPG', 'SLG', 'UDR', 'VTR', 'VNO', 'WELL', 'WY'], 'consumer_staples': ['MO', 'ADM', 'BF.B', 'CPB', 'CHD', 'CLX', 'KO', 'CL', 'CAG', 'STZ', 'COST', 'EL', 'GIS', 'HSY', 'HRL', 'SJM', 'K', 'KMB', 'KHC', 'KR', 'LW', 'MKC', 'TAP', 'MDLZ', 'MNST', 'PEP', 'PM', 'PG', 'SYY', 'TSN', 'WMT', 'WBA'], 'energy': ['APA', 'BKR', 'COG', 'CVX', 'CXO', 'COP', 'DVN', 'FANG', 'EOG', 'XOM', 'HAL', 'HES', 'HFC', 'KMI', 'MRO', 'MPC', 'NOV', 'OXY', 'OKE', 'PSX', 'PXD', 'SLB', 'FTI', 'VLO', 'WMB']}\n"
     ]
    }
   ],
   "source": [
    "from urllib.request import urlopen\n",
    "import pytz\n",
    "import pandas_datareader.data as dr\n",
    "import datetime\n",
    "from bs4 import BeautifulSoup\n",
    "import csv\n",
    "\n",
    "thisurl = \"https://en.wikipedia.org/wiki/List_of_S%26P_500_companies\" \n",
    "myPage = urlopen(thisurl) \n",
    "mySoup = BeautifulSoup(myPage, \"html.parser\")  \n",
    "table = mySoup.find('table', {'class': 'wikitable sortable'})\n",
    "sector_tickers = dict() \n",
    "for row in table.findAll('tr'): \n",
    "    col = row.findAll('td') \n",
    "    if len(col) > 0: \n",
    "        sector = str(col[3].string.strip()).lower().replace(' ', '_') \n",
    "        ticker = str(col[0].text.strip('\\n')) \n",
    "        if sector not in sector_tickers: \n",
    "            sector_tickers[sector] = list() \n",
    "        sector_tickers[sector].append(ticker) \n",
    "start = datetime.datetime(2010, 1, 1)  \n",
    "end = datetime.datetime(2016, 12, 27) \n",
    "print(sector_tickers)\n",
    "myKeys = list(sector_tickers.keys()) \n",
    "for i in range(0,len(myKeys)): \n",
    "    myTickers = sector_tickers[myKeys[i]] \n",
    "    for j in range(0,len(myTickers)): \n",
    "        myData = dr.DataReader(myTickers[j], 'yahoo', start, end)\n",
    "        info = myTickers[j] + '.csv'\n",
    "        myData.to_csv('D:\\\\info') "
   ]
  },
  {
   "cell_type": "code",
   "execution_count": null,
   "metadata": {},
   "outputs": [],
   "source": []
  }
 ],
 "metadata": {
  "kernelspec": {
   "display_name": "Python 3",
   "language": "python",
   "name": "python3"
  },
  "language_info": {
   "codemirror_mode": {
    "name": "ipython",
    "version": 3
   },
   "file_extension": ".py",
   "mimetype": "text/x-python",
   "name": "python",
   "nbconvert_exporter": "python",
   "pygments_lexer": "ipython3",
   "version": "3.8.3"
  }
 },
 "nbformat": 4,
 "nbformat_minor": 4
}
